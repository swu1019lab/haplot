{
 "cells": [
  {
   "cell_type": "code",
   "execution_count": 1,
   "metadata": {
    "collapsed": true
   },
   "outputs": [],
   "source": [
    "import numpy as np\n",
    "import pandas as pd\n",
    "import matplotlib.pyplot as plt\n",
    "from haplot.chart import HapNetworkPlot"
   ]
  },
  {
   "cell_type": "code",
   "execution_count": null,
   "outputs": [],
   "source": [
    "# generate data\n",
    "# generate data for network plot\n",
    "np.random.seed(20230831)\n",
    "node_num = 10\n",
    "edge_num = 20\n",
    "node_name = ['Hap{}'.format(i + 1) for i in range(node_num)]\n",
    "node_data = pd.DataFrame(\n",
    "    {\n",
    "        'node': node_name,\n",
    "        'value1': np.random.randint(1, 400, node_num),\n",
    "        'value2': np.random.randint(1, 400, node_num),\n",
    "        'value3': np.random.randint(1, 400, node_num)\n",
    "    }\n",
    ")\n",
    "edge_data = pd.DataFrame(\n",
    "    {\n",
    "        'source': np.random.choice(node_name, edge_num),\n",
    "        'target': np.random.choice(node_name, edge_num),\n",
    "        'weight': np.random.randint(1, 10, edge_num),\n",
    "        'color': ['C2'] * edge_num\n",
    "    }\n",
    ")"
   ],
   "metadata": {
    "collapsed": false
   }
  },
  {
   "cell_type": "code",
   "execution_count": null,
   "outputs": [],
   "source": [
    "# plot\n",
    "fig, ax = plt.subplots(figsize=(5, 5))\n",
    "HapNetworkPlot(edge_data=edge_data, node_data=node_data, layout='spring', node_font_size=8)\n",
    "plt.show()"
   ],
   "metadata": {
    "collapsed": false
   }
  }
 ],
 "metadata": {
  "kernelspec": {
   "display_name": "Python 3",
   "language": "python",
   "name": "python3"
  },
  "language_info": {
   "codemirror_mode": {
    "name": "ipython",
    "version": 2
   },
   "file_extension": ".py",
   "mimetype": "text/x-python",
   "name": "python",
   "nbconvert_exporter": "python",
   "pygments_lexer": "ipython2",
   "version": "2.7.6"
  }
 },
 "nbformat": 4,
 "nbformat_minor": 0
}
